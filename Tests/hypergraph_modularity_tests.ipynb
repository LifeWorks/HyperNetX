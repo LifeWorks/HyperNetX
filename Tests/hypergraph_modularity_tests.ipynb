{
 "cells": [
  {
   "cell_type": "markdown",
   "metadata": {},
   "source": [
    "# Testing modularity code for HyperNetX\n",
    "\n",
    "Testing new code taking advantage of the data structure in HNX2 for the hypergraph_modularity module.\n",
    "The code can be installed from the following forked repo (branch = modularity):\n",
    "\n",
    "```\n",
    "pip install git+https://github.com/ftheberge/HyperNetX.git@modularity#egg=hypernetx \n",
    "```\n"
   ]
  },
  {
   "cell_type": "markdown",
   "metadata": {},
   "source": [
    "# Updates to HNX2.0 modularity module\n",
    "\n",
    "### Unchanged functions:\n",
    "\n",
    "- dict2part(D)\n",
    "- part2dict(A)\n",
    "- linear(d, c)\n",
    "- majority(d, c)\n",
    "- strict(d, c)\n",
    "- two_section(HG)\n",
    "- kumar(HG, delta=0.01, verbose=False)\n",
    "\n",
    "### No longer required\n",
    "\n",
    "- precompute_attributes(H)\n",
    "- _compute_partition_probas(HG, A)\n",
    "- _degree_tax(HG, Pr, wdc)\n",
    "- _edge_contribution(HG, A, wdc)\n",
    "- _delta_ec(HG, P, v, a, b, wdc)\n",
    "- _bin_ppmf(d, c, p)\n",
    "- _delta_dt(HG, P, v, a, b, wdc)\n",
    "\n",
    "### New version \n",
    "\n",
    "- modularity(HG, A, wdc=linear)\n",
    "- last_step(HG, L, wdc=linear, delta=0.01, verbose=False)\n",
    "\n",
    "### New (hidden) functions\n",
    "\n",
    "- _last_step_unweighted\n",
    "- _last_step_weighted\n"
   ]
  },
  {
   "cell_type": "code",
   "execution_count": 1,
   "metadata": {},
   "outputs": [
    {
     "name": "stdout",
     "output_type": "stream",
     "text": [
      "HNX version: 2.0.4\n"
     ]
    }
   ],
   "source": [
    "import pandas as pd\n",
    "import numpy as np\n",
    "import igraph as ig\n",
    "import hypernetx as hnx\n",
    "import hypernetx.algorithms.hypergraph_modularity as hmod ## we re-wrote some of those functions\n",
    "import pickle\n",
    "import matplotlib.pyplot as plt\n",
    "%matplotlib inline\n",
    "from collections import Counter\n",
    "import warnings\n",
    "warnings.simplefilter('ignore')\n",
    "print('HNX version:',hnx.__version__)\n",
    "Datadir = \"./Data/\""
   ]
  },
  {
   "cell_type": "markdown",
   "metadata": {},
   "source": [
    "# Experiment with h-ABCD hypergraphs\n",
    "\n",
    "We generated 4 h-ABCD hypergraphs with parameters:\n",
    "\n",
    "* -n 1000 -d 2.5,5,50 -c 1.5,50,200 -x 0.5 -q 0.0,0.4,0.3,0.2,0.1 -w :**linear** -s 1234 -o linear_1000\n",
    "* same as above with **strict**, **majority**\n",
    "* -n 1000 -d 2.5,5,50 -c 1.5,50,200 -x 0.5 -q 0.0,0.1,0.1,0.1,0.1,0.1,0.1,0.1,0.1,0.1,0.1 -w :linear -s 1234 -o linear_large_edges_1000\n"
   ]
  },
  {
   "cell_type": "code",
   "execution_count": 2,
   "metadata": {},
   "outputs": [],
   "source": [
    "## pick one on the 4 examples\n",
    "file_vertex_labels = Datadir+'linear_1000_assign.txt'\n",
    "file_hyperedges = Datadir+'linear_1000_he.txt'"
   ]
  },
  {
   "cell_type": "code",
   "execution_count": 3,
   "metadata": {},
   "outputs": [
    {
     "data": {
      "text/plain": [
       "(1000, 3385)"
      ]
     },
     "execution_count": 3,
     "metadata": {},
     "output_type": "execute_result"
    }
   ],
   "source": [
    "## read data, build hypergraph\n",
    "with open(file_hyperedges, 'r') as file:\n",
    "    # Read all the lines of the file into a list\n",
    "    lines = file.readlines()\n",
    "hyperedges = [[y for y in x.replace('\\n','').split(',')] for x in lines]\n",
    "\n",
    "## for test purpose - add edges of size 1, multi-edges\n",
    "#hyperedges.extend([['1'],['2'],['3']])\n",
    "#hyperedges.extend([['1','1'],['2'],['3','3']])\n",
    "\n",
    "with open(file_vertex_labels, 'r') as file:\n",
    "    # Read all the lines of the file into a list\n",
    "    vertex_labels = np.array([int(y) for y in file.read().splitlines()])\n",
    "\n",
    "H = hnx.Hypergraph(hyperedges)\n",
    "## optional - add random edge weights for test purpose\n",
    "#for e in H.edges:\n",
    "#    H.edges[e].weight = np.random.choice(10)+1\n",
    "H.shape    "
   ]
  },
  {
   "cell_type": "code",
   "execution_count": 4,
   "metadata": {},
   "outputs": [
    {
     "name": "stdout",
     "output_type": "stream",
     "text": [
      "CPU times: user 176 ms, sys: 3.96 ms, total: 180 ms\n",
      "Wall time: 180 ms\n"
     ]
    }
   ],
   "source": [
    "%%time\n",
    "## Cluster the 2-section graph (with Louvain)\n",
    "G = hmod.two_section(H)\n",
    "G.vs['louvain'] = G.community_multilevel(weights='weight').membership\n",
    "ML = hmod.dict2part({v['name']:v['louvain'] for v in G.vs})\n"
   ]
  },
  {
   "cell_type": "code",
   "execution_count": 5,
   "metadata": {},
   "outputs": [
    {
     "name": "stdout",
     "output_type": "stream",
     "text": [
      "qH-linear: 0.36274807787558344\n",
      "qH-majority: 0.3846497301541902\n",
      "qH-strict: 0.3122958376208558\n",
      "CPU times: user 50.2 ms, sys: 3.73 ms, total: 53.9 ms\n",
      "Wall time: 52.8 ms\n"
     ]
    }
   ],
   "source": [
    "%%time\n",
    "## Compute qH's\n",
    "print('qH-linear:',hmod.modularity(H, ML, wdc=hmod.linear))\n",
    "print('qH-majority:',hmod.modularity(H, ML, wdc=hmod.majority))\n",
    "print('qH-strict:',hmod.modularity(H, ML, wdc=hmod.strict))\n"
   ]
  },
  {
   "cell_type": "code",
   "execution_count": 6,
   "metadata": {},
   "outputs": [
    {
     "name": "stdout",
     "output_type": "stream",
     "text": [
      "pass completed, max edge weight difference: 0.4896602658788774\n",
      "pass completed, max edge weight difference: 0.24534711964549483\n",
      "pass completed, max edge weight difference: 0.1237370753323486\n",
      "pass completed, max edge weight difference: 0.060298498276710986\n",
      "pass completed, max edge weight difference: 0.03037912358444117\n",
      "pass completed, max edge weight difference: 0.019591026587887743\n",
      "pass completed, max edge weight difference: 0.010293189931068439\n",
      "pass completed, max edge weight difference: 0.0031758139463318596\n",
      "CPU times: user 8.1 s, sys: 23.3 ms, total: 8.12 s\n",
      "Wall time: 8.12 s\n"
     ]
    }
   ],
   "source": [
    "%%time\n",
    "## Cluster the hypergraph (with Kumar's)\n",
    "KU = hmod.kumar(H, verbose=True)\n"
   ]
  },
  {
   "cell_type": "code",
   "execution_count": 7,
   "metadata": {},
   "outputs": [
    {
     "name": "stdout",
     "output_type": "stream",
     "text": [
      "qH-linear: 0.3658125350155276\n",
      "qH-majority: 0.38097480164587144\n",
      "qH-strict: 0.32741539570353195\n",
      "CPU times: user 44.2 ms, sys: 6.39 ms, total: 50.6 ms\n",
      "Wall time: 49.3 ms\n"
     ]
    }
   ],
   "source": [
    "%%time\n",
    "## Compute qH's\n",
    "print('qH-linear:',hmod.modularity(H, KU, wdc=hmod.linear))\n",
    "print('qH-majority:',hmod.modularity(H, KU, wdc=hmod.majority))\n",
    "print('qH-strict:',hmod.modularity(H, KU, wdc=hmod.strict))\n"
   ]
  },
  {
   "cell_type": "code",
   "execution_count": 8,
   "metadata": {
    "scrolled": false
   },
   "outputs": [
    {
     "name": "stdout",
     "output_type": "stream",
     "text": [
      "initial qH: 0.3658125350155276\n",
      "110 moves, new qH: 0.3858984258713437\n",
      "18 moves, new qH: 0.38853167207781947\n",
      "CPU times: user 24.2 s, sys: 108 ms, total: 24.3 s\n",
      "Wall time: 24.2 s\n"
     ]
    }
   ],
   "source": [
    "%%time\n",
    "## try improving selected qH via simple heuristic\n",
    "KU_ls = hmod.last_step(H, KU, wdc=hmod.linear, verbose=True)"
   ]
  },
  {
   "cell_type": "code",
   "execution_count": 9,
   "metadata": {},
   "outputs": [
    {
     "name": "stdout",
     "output_type": "stream",
     "text": [
      "qH-linear: 0.38853167207781947\n",
      "qH-majority: 0.41795392766262496\n",
      "qH-strict: 0.32015322871426566\n",
      "CPU times: user 43.9 ms, sys: 8 ms, total: 51.9 ms\n",
      "Wall time: 49.1 ms\n"
     ]
    }
   ],
   "source": [
    "%%time\n",
    "## Compute qH with current HNX function\n",
    "print('qH-linear:',hmod.modularity(H, KU_ls, wdc=hmod.linear))\n",
    "print('qH-majority:',hmod.modularity(H, KU_ls, wdc=hmod.majority))\n",
    "print('qH-strict:',hmod.modularity(H, KU_ls, wdc=hmod.strict))"
   ]
  }
 ],
 "metadata": {
  "kernelspec": {
   "display_name": "Python [conda env:.conda-graphmining]",
   "language": "python",
   "name": "conda-env-.conda-graphmining-py"
  },
  "language_info": {
   "codemirror_mode": {
    "name": "ipython",
    "version": 3
   },
   "file_extension": ".py",
   "mimetype": "text/x-python",
   "name": "python",
   "nbconvert_exporter": "python",
   "pygments_lexer": "ipython3",
   "version": "3.11.4"
  }
 },
 "nbformat": 4,
 "nbformat_minor": 4
}
